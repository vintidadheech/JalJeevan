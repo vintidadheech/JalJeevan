{
 "cells": [
  {
   "cell_type": "code",
   "execution_count": 2,
   "metadata": {},
   "outputs": [],
   "source": [
    "import pandas as pd\n",
    "import numpy as np\n",
    "from sklearn.model_selection import train_test_split\n",
    "from sklearn.linear_model import LinearRegression\n",
    "from sklearn.metrics import mean_squared_error, r2_score\n",
    "from sklearn.preprocessing import OneHotEncoder, StandardScaler\n",
    "from sklearn.compose import ColumnTransformer\n",
    "from sklearn.pipeline import Pipeline\n"
   ]
  },
  {
   "cell_type": "code",
   "execution_count": 5,
   "metadata": {},
   "outputs": [],
   "source": [
    "data = pd.read_csv(\"complex_water_footprint_dataset.csv\")\n"
   ]
  },
  {
   "cell_type": "code",
   "execution_count": 15,
   "metadata": {},
   "outputs": [],
   "source": [
    "categorical_features = ['Occupation', 'Lifestyle', 'Presence_of_garden', 'Dishwasher_usage', 'Washing_machine_usage', 'Swimming_pool', 'Water_storage']\n",
    "numerical_features = ['Number_of_people', 'Average_Age', 'Total_Income', 'House_Size', 'Number_of_bathrooms']\n",
    "\n",
    "preprocessor = ColumnTransformer(\n",
    "    transformers=[\n",
    "        ('num', StandardScaler(), numerical_features),\n",
    "        ('cat', OneHotEncoder(drop='first', handle_unknown='ignore'), categorical_features)\n",
    "    ])\n",
    "\n"
   ]
  },
  {
   "cell_type": "code",
   "execution_count": 16,
   "metadata": {},
   "outputs": [],
   "source": [
    "model = Pipeline(steps=[('preprocessor', preprocessor),\n",
    "                        ('regressor', LinearRegression())])\n"
   ]
  },
  {
   "cell_type": "code",
   "execution_count": 17,
   "metadata": {},
   "outputs": [],
   "source": [
    "X = data.drop('Water_footprint', axis=1)\n",
    "y = data['Water_footprint']\n",
    "X_train, X_test, y_train, y_test = train_test_split(X, y, test_size=0.2, random_state=0)\n"
   ]
  },
  {
   "cell_type": "code",
   "execution_count": 18,
   "metadata": {},
   "outputs": [
    {
     "data": {
      "text/html": [
       "<style>#sk-container-id-2 {color: black;}#sk-container-id-2 pre{padding: 0;}#sk-container-id-2 div.sk-toggleable {background-color: white;}#sk-container-id-2 label.sk-toggleable__label {cursor: pointer;display: block;width: 100%;margin-bottom: 0;padding: 0.3em;box-sizing: border-box;text-align: center;}#sk-container-id-2 label.sk-toggleable__label-arrow:before {content: \"▸\";float: left;margin-right: 0.25em;color: #696969;}#sk-container-id-2 label.sk-toggleable__label-arrow:hover:before {color: black;}#sk-container-id-2 div.sk-estimator:hover label.sk-toggleable__label-arrow:before {color: black;}#sk-container-id-2 div.sk-toggleable__content {max-height: 0;max-width: 0;overflow: hidden;text-align: left;background-color: #f0f8ff;}#sk-container-id-2 div.sk-toggleable__content pre {margin: 0.2em;color: black;border-radius: 0.25em;background-color: #f0f8ff;}#sk-container-id-2 input.sk-toggleable__control:checked~div.sk-toggleable__content {max-height: 200px;max-width: 100%;overflow: auto;}#sk-container-id-2 input.sk-toggleable__control:checked~label.sk-toggleable__label-arrow:before {content: \"▾\";}#sk-container-id-2 div.sk-estimator input.sk-toggleable__control:checked~label.sk-toggleable__label {background-color: #d4ebff;}#sk-container-id-2 div.sk-label input.sk-toggleable__control:checked~label.sk-toggleable__label {background-color: #d4ebff;}#sk-container-id-2 input.sk-hidden--visually {border: 0;clip: rect(1px 1px 1px 1px);clip: rect(1px, 1px, 1px, 1px);height: 1px;margin: -1px;overflow: hidden;padding: 0;position: absolute;width: 1px;}#sk-container-id-2 div.sk-estimator {font-family: monospace;background-color: #f0f8ff;border: 1px dotted black;border-radius: 0.25em;box-sizing: border-box;margin-bottom: 0.5em;}#sk-container-id-2 div.sk-estimator:hover {background-color: #d4ebff;}#sk-container-id-2 div.sk-parallel-item::after {content: \"\";width: 100%;border-bottom: 1px solid gray;flex-grow: 1;}#sk-container-id-2 div.sk-label:hover label.sk-toggleable__label {background-color: #d4ebff;}#sk-container-id-2 div.sk-serial::before {content: \"\";position: absolute;border-left: 1px solid gray;box-sizing: border-box;top: 0;bottom: 0;left: 50%;z-index: 0;}#sk-container-id-2 div.sk-serial {display: flex;flex-direction: column;align-items: center;background-color: white;padding-right: 0.2em;padding-left: 0.2em;position: relative;}#sk-container-id-2 div.sk-item {position: relative;z-index: 1;}#sk-container-id-2 div.sk-parallel {display: flex;align-items: stretch;justify-content: center;background-color: white;position: relative;}#sk-container-id-2 div.sk-item::before, #sk-container-id-2 div.sk-parallel-item::before {content: \"\";position: absolute;border-left: 1px solid gray;box-sizing: border-box;top: 0;bottom: 0;left: 50%;z-index: -1;}#sk-container-id-2 div.sk-parallel-item {display: flex;flex-direction: column;z-index: 1;position: relative;background-color: white;}#sk-container-id-2 div.sk-parallel-item:first-child::after {align-self: flex-end;width: 50%;}#sk-container-id-2 div.sk-parallel-item:last-child::after {align-self: flex-start;width: 50%;}#sk-container-id-2 div.sk-parallel-item:only-child::after {width: 0;}#sk-container-id-2 div.sk-dashed-wrapped {border: 1px dashed gray;margin: 0 0.4em 0.5em 0.4em;box-sizing: border-box;padding-bottom: 0.4em;background-color: white;}#sk-container-id-2 div.sk-label label {font-family: monospace;font-weight: bold;display: inline-block;line-height: 1.2em;}#sk-container-id-2 div.sk-label-container {text-align: center;}#sk-container-id-2 div.sk-container {/* jupyter's `normalize.less` sets `[hidden] { display: none; }` but bootstrap.min.css set `[hidden] { display: none !important; }` so we also need the `!important` here to be able to override the default hidden behavior on the sphinx rendered scikit-learn.org. See: https://github.com/scikit-learn/scikit-learn/issues/21755 */display: inline-block !important;position: relative;}#sk-container-id-2 div.sk-text-repr-fallback {display: none;}</style><div id=\"sk-container-id-2\" class=\"sk-top-container\"><div class=\"sk-text-repr-fallback\"><pre>Pipeline(steps=[(&#x27;preprocessor&#x27;,\n",
       "                 ColumnTransformer(transformers=[(&#x27;num&#x27;, StandardScaler(),\n",
       "                                                  [&#x27;Number_of_people&#x27;,\n",
       "                                                   &#x27;Average_Age&#x27;,\n",
       "                                                   &#x27;Total_Income&#x27;, &#x27;House_Size&#x27;,\n",
       "                                                   &#x27;Number_of_bathrooms&#x27;]),\n",
       "                                                 (&#x27;cat&#x27;,\n",
       "                                                  OneHotEncoder(drop=&#x27;first&#x27;,\n",
       "                                                                handle_unknown=&#x27;ignore&#x27;),\n",
       "                                                  [&#x27;Occupation&#x27;, &#x27;Lifestyle&#x27;,\n",
       "                                                   &#x27;Presence_of_garden&#x27;,\n",
       "                                                   &#x27;Dishwasher_usage&#x27;,\n",
       "                                                   &#x27;Washing_machine_usage&#x27;,\n",
       "                                                   &#x27;Swimming_pool&#x27;,\n",
       "                                                   &#x27;Water_storage&#x27;])])),\n",
       "                (&#x27;regressor&#x27;, LinearRegression())])</pre><b>In a Jupyter environment, please rerun this cell to show the HTML representation or trust the notebook. <br />On GitHub, the HTML representation is unable to render, please try loading this page with nbviewer.org.</b></div><div class=\"sk-container\" hidden><div class=\"sk-item sk-dashed-wrapped\"><div class=\"sk-label-container\"><div class=\"sk-label sk-toggleable\"><input class=\"sk-toggleable__control sk-hidden--visually\" id=\"sk-estimator-id-8\" type=\"checkbox\" ><label for=\"sk-estimator-id-8\" class=\"sk-toggleable__label sk-toggleable__label-arrow\">Pipeline</label><div class=\"sk-toggleable__content\"><pre>Pipeline(steps=[(&#x27;preprocessor&#x27;,\n",
       "                 ColumnTransformer(transformers=[(&#x27;num&#x27;, StandardScaler(),\n",
       "                                                  [&#x27;Number_of_people&#x27;,\n",
       "                                                   &#x27;Average_Age&#x27;,\n",
       "                                                   &#x27;Total_Income&#x27;, &#x27;House_Size&#x27;,\n",
       "                                                   &#x27;Number_of_bathrooms&#x27;]),\n",
       "                                                 (&#x27;cat&#x27;,\n",
       "                                                  OneHotEncoder(drop=&#x27;first&#x27;,\n",
       "                                                                handle_unknown=&#x27;ignore&#x27;),\n",
       "                                                  [&#x27;Occupation&#x27;, &#x27;Lifestyle&#x27;,\n",
       "                                                   &#x27;Presence_of_garden&#x27;,\n",
       "                                                   &#x27;Dishwasher_usage&#x27;,\n",
       "                                                   &#x27;Washing_machine_usage&#x27;,\n",
       "                                                   &#x27;Swimming_pool&#x27;,\n",
       "                                                   &#x27;Water_storage&#x27;])])),\n",
       "                (&#x27;regressor&#x27;, LinearRegression())])</pre></div></div></div><div class=\"sk-serial\"><div class=\"sk-item sk-dashed-wrapped\"><div class=\"sk-label-container\"><div class=\"sk-label sk-toggleable\"><input class=\"sk-toggleable__control sk-hidden--visually\" id=\"sk-estimator-id-9\" type=\"checkbox\" ><label for=\"sk-estimator-id-9\" class=\"sk-toggleable__label sk-toggleable__label-arrow\">preprocessor: ColumnTransformer</label><div class=\"sk-toggleable__content\"><pre>ColumnTransformer(transformers=[(&#x27;num&#x27;, StandardScaler(),\n",
       "                                 [&#x27;Number_of_people&#x27;, &#x27;Average_Age&#x27;,\n",
       "                                  &#x27;Total_Income&#x27;, &#x27;House_Size&#x27;,\n",
       "                                  &#x27;Number_of_bathrooms&#x27;]),\n",
       "                                (&#x27;cat&#x27;,\n",
       "                                 OneHotEncoder(drop=&#x27;first&#x27;,\n",
       "                                               handle_unknown=&#x27;ignore&#x27;),\n",
       "                                 [&#x27;Occupation&#x27;, &#x27;Lifestyle&#x27;,\n",
       "                                  &#x27;Presence_of_garden&#x27;, &#x27;Dishwasher_usage&#x27;,\n",
       "                                  &#x27;Washing_machine_usage&#x27;, &#x27;Swimming_pool&#x27;,\n",
       "                                  &#x27;Water_storage&#x27;])])</pre></div></div></div><div class=\"sk-parallel\"><div class=\"sk-parallel-item\"><div class=\"sk-item\"><div class=\"sk-label-container\"><div class=\"sk-label sk-toggleable\"><input class=\"sk-toggleable__control sk-hidden--visually\" id=\"sk-estimator-id-10\" type=\"checkbox\" ><label for=\"sk-estimator-id-10\" class=\"sk-toggleable__label sk-toggleable__label-arrow\">num</label><div class=\"sk-toggleable__content\"><pre>[&#x27;Number_of_people&#x27;, &#x27;Average_Age&#x27;, &#x27;Total_Income&#x27;, &#x27;House_Size&#x27;, &#x27;Number_of_bathrooms&#x27;]</pre></div></div></div><div class=\"sk-serial\"><div class=\"sk-item\"><div class=\"sk-estimator sk-toggleable\"><input class=\"sk-toggleable__control sk-hidden--visually\" id=\"sk-estimator-id-11\" type=\"checkbox\" ><label for=\"sk-estimator-id-11\" class=\"sk-toggleable__label sk-toggleable__label-arrow\">StandardScaler</label><div class=\"sk-toggleable__content\"><pre>StandardScaler()</pre></div></div></div></div></div></div><div class=\"sk-parallel-item\"><div class=\"sk-item\"><div class=\"sk-label-container\"><div class=\"sk-label sk-toggleable\"><input class=\"sk-toggleable__control sk-hidden--visually\" id=\"sk-estimator-id-12\" type=\"checkbox\" ><label for=\"sk-estimator-id-12\" class=\"sk-toggleable__label sk-toggleable__label-arrow\">cat</label><div class=\"sk-toggleable__content\"><pre>[&#x27;Occupation&#x27;, &#x27;Lifestyle&#x27;, &#x27;Presence_of_garden&#x27;, &#x27;Dishwasher_usage&#x27;, &#x27;Washing_machine_usage&#x27;, &#x27;Swimming_pool&#x27;, &#x27;Water_storage&#x27;]</pre></div></div></div><div class=\"sk-serial\"><div class=\"sk-item\"><div class=\"sk-estimator sk-toggleable\"><input class=\"sk-toggleable__control sk-hidden--visually\" id=\"sk-estimator-id-13\" type=\"checkbox\" ><label for=\"sk-estimator-id-13\" class=\"sk-toggleable__label sk-toggleable__label-arrow\">OneHotEncoder</label><div class=\"sk-toggleable__content\"><pre>OneHotEncoder(drop=&#x27;first&#x27;, handle_unknown=&#x27;ignore&#x27;)</pre></div></div></div></div></div></div></div></div><div class=\"sk-item\"><div class=\"sk-estimator sk-toggleable\"><input class=\"sk-toggleable__control sk-hidden--visually\" id=\"sk-estimator-id-14\" type=\"checkbox\" ><label for=\"sk-estimator-id-14\" class=\"sk-toggleable__label sk-toggleable__label-arrow\">LinearRegression</label><div class=\"sk-toggleable__content\"><pre>LinearRegression()</pre></div></div></div></div></div></div></div>"
      ],
      "text/plain": [
       "Pipeline(steps=[('preprocessor',\n",
       "                 ColumnTransformer(transformers=[('num', StandardScaler(),\n",
       "                                                  ['Number_of_people',\n",
       "                                                   'Average_Age',\n",
       "                                                   'Total_Income', 'House_Size',\n",
       "                                                   'Number_of_bathrooms']),\n",
       "                                                 ('cat',\n",
       "                                                  OneHotEncoder(drop='first',\n",
       "                                                                handle_unknown='ignore'),\n",
       "                                                  ['Occupation', 'Lifestyle',\n",
       "                                                   'Presence_of_garden',\n",
       "                                                   'Dishwasher_usage',\n",
       "                                                   'Washing_machine_usage',\n",
       "                                                   'Swimming_pool',\n",
       "                                                   'Water_storage'])])),\n",
       "                ('regressor', LinearRegression())])"
      ]
     },
     "execution_count": 18,
     "metadata": {},
     "output_type": "execute_result"
    }
   ],
   "source": [
    "model.fit(X_train, y_train)\n"
   ]
  },
  {
   "cell_type": "code",
   "execution_count": 19,
   "metadata": {},
   "outputs": [
    {
     "name": "stdout",
     "output_type": "stream",
     "text": [
      "Mean Squared Error: 41730.70724265732\n",
      "Root Mean Squared Error: 204.28095173720266\n",
      "R2 Score: 0.9969484918530892\n"
     ]
    }
   ],
   "source": [
    "y_pred = model.predict(X_test)\n",
    "\n",
    "mse = mean_squared_error(y_test, y_pred)\n",
    "rmse = np.sqrt(mse)\n",
    "r2 = r2_score(y_test, y_pred)\n",
    "\n",
    "print(f\"Mean Squared Error: {mse}\")\n",
    "print(f\"Root Mean Squared Error: {rmse}\")\n",
    "print(f\"R2 Score: {r2}\")\n"
   ]
  },
  {
   "cell_type": "code",
   "execution_count": 20,
   "metadata": {},
   "outputs": [
    {
     "data": {
      "text/plain": [
       "['lr.pkl']"
      ]
     },
     "execution_count": 20,
     "metadata": {},
     "output_type": "execute_result"
    }
   ],
   "source": [
    "import joblib\n",
    "\n",
    "joblib.dump(model, \"lr.pkl\")\n"
   ]
  },
  {
   "cell_type": "code",
   "execution_count": 21,
   "metadata": {},
   "outputs": [
    {
     "data": {
      "text/plain": [
       "'\\ndef get_user_input():\\n    user_data = {}\\n    user_data[\\'Number_of_people\\'] = int(input(\"Enter number of people: \"))\\n    user_data[\\'Average_Age\\'] = float(input(\"Enter average age: \"))\\n    user_data[\\'Total_Income\\'] = float(input(\"Enter total income: \"))\\n    user_data[\\'Occupation\\'] = input(\"Enter occupation (Salaried/Business/Retired): \")\\n    user_data[\\'Lifestyle\\'] = input(\"Enter lifestyle (Minimalist/Luxury): \")\\n    user_data[\\'House_Size\\'] = float(input(\"Enter house size: \"))\\n    user_data[\\'Presence_of_garden\\'] = input(\"Is there a garden? (Yes/No): \")\\n    user_data[\\'Number_of_bathrooms\\'] = int(input(\"Enter number of bathrooms: \"))\\n    user_data[\\'Dishwasher_usage\\'] = input(\"Enter dishwasher usage (Never/Daily/Weekly): \")\\n    user_data[\\'Washing_machine_usage\\'] = input(\"Enter washing machine usage (Never/Daily/Weekly/Rarely): \")\\n    user_data[\\'Swimming_pool\\'] = input(\"Is there a swimming pool? (Yes/No): \")\\n    user_data[\\'Water_storage\\'] = input(\"Enter water storage (Well/Direct Supply/Tank): \")\\n\\n    return pd.DataFrame([user_data])\\n\\nuser_input = get_user_input()\\npredicted_water_footprint = model.predict(user_input)\\nprint(f\"Predicted Water Footprint: {predicted_water_footprint[0]}\")\\n'"
      ]
     },
     "execution_count": 21,
     "metadata": {},
     "output_type": "execute_result"
    }
   ],
   "source": [
    "'''\n",
    "def get_user_input():\n",
    "    user_data = {}\n",
    "    user_data['Number_of_people'] = int(input(\"Enter number of people: \"))\n",
    "    user_data['Average_Age'] = float(input(\"Enter average age: \"))\n",
    "    user_data['Total_Income'] = float(input(\"Enter total income: \"))\n",
    "    user_data['Occupation'] = input(\"Enter occupation (Salaried/Business/Retired): \")\n",
    "    user_data['Lifestyle'] = input(\"Enter lifestyle (Minimalist/Luxury): \")\n",
    "    user_data['House_Size'] = float(input(\"Enter house size: \"))\n",
    "    user_data['Presence_of_garden'] = input(\"Is there a garden? (Yes/No): \")\n",
    "    user_data['Number_of_bathrooms'] = int(input(\"Enter number of bathrooms: \"))\n",
    "    user_data['Dishwasher_usage'] = input(\"Enter dishwasher usage (Never/Daily/Weekly): \")\n",
    "    user_data['Washing_machine_usage'] = input(\"Enter washing machine usage (Never/Daily/Weekly/Rarely): \")\n",
    "    user_data['Swimming_pool'] = input(\"Is there a swimming pool? (Yes/No): \")\n",
    "    user_data['Water_storage'] = input(\"Enter water storage (Well/Direct Supply/Tank): \")\n",
    "\n",
    "    return pd.DataFrame([user_data])\n",
    "\n",
    "user_input = get_user_input()\n",
    "predicted_water_footprint = model.predict(user_input)\n",
    "print(f\"Predicted Water Footprint: {predicted_water_footprint[0]}\")\n",
    "'''"
   ]
  },
  {
   "cell_type": "code",
   "execution_count": 22,
   "metadata": {},
   "outputs": [
    {
     "name": "stdout",
     "output_type": "stream",
     "text": [
      "1. Salaried\n",
      "2. Business\n",
      "3. Retired\n",
      "1. Minimalist\n",
      "2. Luxury\n",
      "1. Never\n",
      "2. Daily\n",
      "3. Weekly\n",
      "1. Never\n",
      "2. Daily\n",
      "3. Weekly\n",
      "4. Rarely\n",
      "1. Well\n",
      "2. Direct Supply\n",
      "3. Tank\n",
      "Predicted Water Footprint: 533985896339706.7\n"
     ]
    },
    {
     "name": "stderr",
     "output_type": "stream",
     "text": [
      "C:\\Users\\alikh\\AppData\\Local\\Packages\\PythonSoftwareFoundation.Python.3.11_qbz5n2kfra8p0\\LocalCache\\local-packages\\Python311\\site-packages\\sklearn\\preprocessing\\_encoders.py:227: UserWarning: Found unknown categories in columns [1, 3, 4, 5, 6] during transform. These unknown categories will be encoded as all zeros\n",
      "  warnings.warn(\n"
     ]
    }
   ],
   "source": [
    "def get_user_input():\n",
    "    user_data = {}\n",
    "\n",
    "    user_data['Number_of_people'] = int(input(\"Enter number of people: \"))\n",
    "    user_data['Average_Age'] = float(input(\"Enter average age: \"))\n",
    "    user_data['Total_Income'] = float(input(\"Enter total income: \"))\n",
    "    \n",
    "    print(\"1. Salaried\\n2. Business\\n3. Retired\")\n",
    "    occupation_choice = int(input(\"Enter your occupation choice: \"))\n",
    "    if occupation_choice == 1:\n",
    "        user_data['Occupation'] = 'Salaried'\n",
    "    elif occupation_choice == 2:\n",
    "        user_data['Occupation'] = 'Business'\n",
    "    elif occupation_choice == 3:\n",
    "        user_data['Occupation'] = 'Retired'\n",
    "    \n",
    "    print(\"1. Minimalist\\n2. Luxury\")\n",
    "    lifestyle_choice = int(input(\"Enter your lifestyle choice: \"))\n",
    "    user_data['Lifestyle'] = 'Minimalist' if lifestyle_choice == 1 else 'Luxury'\n",
    "    \n",
    "    user_data['House_Size'] = float(input(\"Enter house size: \"))\n",
    "    \n",
    "    garden_choice = int(input(\"Is there a garden? 1. Yes 2. No: \"))\n",
    "    user_data['Presence_of_garden'] = 'Yes' if garden_choice == 1 else 'No'\n",
    "    \n",
    "    user_data['Number_of_bathrooms'] = int(input(\"Enter number of bathrooms: \"))\n",
    "    \n",
    "    print(\"1. Never\\n2. Daily\\n3. Weekly\")\n",
    "    dishwasher_usage_choice = int(input(\"Enter dishwasher usage choice: \"))\n",
    "    if dishwasher_usage_choice == 1:\n",
    "        user_data['Dishwasher_usage'] = 'Never'\n",
    "    elif dishwasher_usage_choice == 2:\n",
    "        user_data['Dishwasher_usage'] = 'Daily'\n",
    "    elif dishwasher_usage_choice == 3:\n",
    "        user_data['Dishwasher_usage'] = 'Weekly'\n",
    "    \n",
    "    print(\"1. Never\\n2. Daily\\n3. Weekly\\n4. Rarely\")\n",
    "    washing_machine_usage_choice = int(input(\"Enter washing machine usage choice: \"))\n",
    "    if washing_machine_usage_choice == 1:\n",
    "        user_data['Washing_machine_usage'] = 'Never'\n",
    "    elif washing_machine_usage_choice == 2:\n",
    "        user_data['Washing_machine_usage'] = 'Daily'\n",
    "    elif washing_machine_usage_choice == 3:\n",
    "        user_data['Washing_machine_usage'] = 'Weekly'\n",
    "    elif washing_machine_usage_choice == 4:\n",
    "        user_data['Washing_machine_usage'] = 'Rarely'\n",
    "    \n",
    "    pool_choice = int(input(\"Is there a swimming pool? 1. Yes 2. No: \"))\n",
    "    user_data['Swimming_pool'] = 'Yes' if pool_choice == 1 else 'No'\n",
    "    \n",
    "    print(\"1. Well\\n2. Direct Supply\\n3. Tank\")\n",
    "    water_storage_choice = int(input(\"Enter water storage choice: \"))\n",
    "    if water_storage_choice == 1:\n",
    "        user_data['Water_storage'] = 'Well'\n",
    "    elif water_storage_choice == 2:\n",
    "        user_data['Water_storage'] = 'Direct Supply'\n",
    "    elif water_storage_choice == 3:\n",
    "        user_data['Water_storage'] = 'Tank'\n",
    "\n",
    "    return pd.DataFrame([user_data])\n",
    "\n",
    "user_input = get_user_input()\n",
    "predicted_water_footprint = model.predict(user_input)\n",
    "print(f\"Predicted Water Footprint: {predicted_water_footprint[0]}\")\n"
   ]
  },
  {
   "cell_type": "code",
   "execution_count": null,
   "metadata": {},
   "outputs": [],
   "source": []
  }
 ],
 "metadata": {
  "kernelspec": {
   "display_name": "Python 3",
   "language": "python",
   "name": "python3"
  },
  "language_info": {
   "codemirror_mode": {
    "name": "ipython",
    "version": 3
   },
   "file_extension": ".py",
   "mimetype": "text/x-python",
   "name": "python",
   "nbconvert_exporter": "python",
   "pygments_lexer": "ipython3",
   "version": "3.11.5"
  },
  "orig_nbformat": 4
 },
 "nbformat": 4,
 "nbformat_minor": 2
}
